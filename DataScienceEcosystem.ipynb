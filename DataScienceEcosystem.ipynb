{
 "cells": [
  {
   "cell_type": "markdown",
   "id": "540c83b8-0e82-40d2-a438-e283ae328b40",
   "metadata": {},
   "source": [
    "# Data Science Tools and Ecosystem"
   ]
  },
  {
   "cell_type": "markdown",
   "id": "5e10ac61-4c01-4094-9049-26e6d85c3f54",
   "metadata": {},
   "source": [
    "## Author\n",
    "Erica Chang"
   ]
  },
  {
   "cell_type": "markdown",
   "id": "7015e439-2ca4-4c32-ae8e-e077927e7086",
   "metadata": {},
   "source": [
    "In this notebook, Data Science Tools and Ecosystem are summarized."
   ]
  },
  {
   "cell_type": "markdown",
   "id": "77aacf95-8544-4ec5-b8de-4e062c5b91c7",
   "metadata": {},
   "source": [
    "**Objectives:**\n",
    "- List commonly used libraries used by Data Scientists\n",
    "- List popular languages that Data Scientists use\n",
    "- Show examples of arithmetic expressions in Python"
   ]
  },
  {
   "cell_type": "markdown",
   "id": "e715dedd-5f27-4235-9ccf-1ffc2fc249fc",
   "metadata": {},
   "source": [
    "Some of the popular languages that Data Scientists use are:\n",
    "1. Python\n",
    "2. R\n",
    "3. SQL"
   ]
  },
  {
   "cell_type": "markdown",
   "id": "38249127-9f43-43b2-b635-fc2e2fad14e0",
   "metadata": {},
   "source": [
    "Some of the commonly used libraries used by Data Scientists include:\n",
    "1. Matplotlib\n",
    "2. Scikit-learn\n",
    "3. Tensorflow"
   ]
  },
  {
   "cell_type": "markdown",
   "id": "0b4cf92e-5ccf-416d-890e-ff9ed10d8db8",
   "metadata": {},
   "source": [
    "| Data Science Tools |\n",
    "| ------------------ |\n",
    "| MySQL |\n",
    "| GitHub |\n",
    "| Pixie Dust |"
   ]
  },
  {
   "cell_type": "markdown",
   "id": "b186c01b-140e-44fb-b5e1-c72659f56988",
   "metadata": {},
   "source": [
    "### Below are a few examples of evaluating arithmetic expressions in Python\n",
    "1+3\n",
    "\n",
    "pow(2, 9)"
   ]
  },
  {
   "cell_type": "code",
   "execution_count": 6,
   "id": "0c62d290-ed23-436a-9608-bd98a3cad18a",
   "metadata": {},
   "outputs": [
    {
     "data": {
      "text/plain": [
       "17"
      ]
     },
     "execution_count": 6,
     "metadata": {},
     "output_type": "execute_result"
    }
   ],
   "source": [
    "# This a simple arithmetic expression to mutiply then add integers\n",
    "(3*4)+5"
   ]
  },
  {
   "cell_type": "code",
   "execution_count": 7,
   "id": "5fef0bab-9b7d-4803-82cb-282e50bf33ec",
   "metadata": {},
   "outputs": [
    {
     "data": {
      "text/plain": [
       "3.3333333333333335"
      ]
     },
     "execution_count": 7,
     "metadata": {},
     "output_type": "execute_result"
    }
   ],
   "source": [
    "# This will convert 200 minutes to hours by diving by 60\n",
    "200/60"
   ]
  },
  {
   "cell_type": "code",
   "execution_count": null,
   "id": "a48f7536-7658-4fa4-92ec-d525a741c4f1",
   "metadata": {},
   "outputs": [],
   "source": []
  }
 ],
 "metadata": {
  "kernelspec": {
   "display_name": "Python [conda env:base] *",
   "language": "python",
   "name": "conda-base-py"
  },
  "language_info": {
   "codemirror_mode": {
    "name": "ipython",
    "version": 3
   },
   "file_extension": ".py",
   "mimetype": "text/x-python",
   "name": "python",
   "nbconvert_exporter": "python",
   "pygments_lexer": "ipython3",
   "version": "3.12.7"
  }
 },
 "nbformat": 4,
 "nbformat_minor": 5
}
